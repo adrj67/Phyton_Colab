{
  "nbformat": 4,
  "nbformat_minor": 0,
  "metadata": {
    "colab": {
      "provenance": [],
      "toc_visible": true,
      "include_colab_link": true
    },
    "kernelspec": {
      "name": "python3",
      "display_name": "Python 3"
    },
    "language_info": {
      "name": "python"
    }
  },
  "cells": [
    {
      "cell_type": "markdown",
      "metadata": {
        "id": "view-in-github",
        "colab_type": "text"
      },
      "source": [
        "<a href=\"https://colab.research.google.com/github/adrj67/Phyton_Colab/blob/miprim/2Copia_de_fundamentos_python_2.ipynb\" target=\"_parent\"><img src=\"https://colab.research.google.com/assets/colab-badge.svg\" alt=\"Open In Colab\"/></a>"
      ]
    },
    {
      "cell_type": "markdown",
      "source": [
        "# Continuación de fundamentos de Python"
      ],
      "metadata": {
        "id": "2xvjMi32jxBe"
      }
    },
    {
      "cell_type": "markdown",
      "source": [
        "## Asignación"
      ],
      "metadata": {
        "id": "7XmBMlqASExP"
      }
    },
    {
      "cell_type": "code",
      "source": [
        "variable = 10 # okay"
      ],
      "metadata": {
        "id": "1uknrQ59SGRG"
      },
      "execution_count": null,
      "outputs": []
    },
    {
      "cell_type": "code",
      "source": [
        "10 = variable # MAL"
      ],
      "metadata": {
        "colab": {
          "base_uri": "https://localhost:8080/",
          "height": 141
        },
        "id": "Wpu718TpSKc7",
        "outputId": "e2026ce8-ed78-4f5b-d393-79f5fccc306c"
      },
      "execution_count": null,
      "outputs": [
        {
          "output_type": "error",
          "ename": "SyntaxError",
          "evalue": "ignored",
          "traceback": [
            "\u001b[0;36m  File \u001b[0;32m\"<ipython-input-2-980a8bf87856>\"\u001b[0;36m, line \u001b[0;32m1\u001b[0m\n\u001b[0;31m    10 = variable # MAL\u001b[0m\n\u001b[0m    ^\u001b[0m\n\u001b[0;31mSyntaxError\u001b[0m\u001b[0;31m:\u001b[0m cannot assign to literal here. Maybe you meant '==' instead of '='?\n"
          ]
        }
      ]
    },
    {
      "cell_type": "code",
      "source": [
        "# no confundir con el ==, la comparación\n",
        "10 == variable"
      ],
      "metadata": {
        "colab": {
          "base_uri": "https://localhost:8080/"
        },
        "id": "bwgoPMzFSMT9",
        "outputId": "6791436f-8723-4eee-a85e-437b6f686916"
      },
      "execution_count": null,
      "outputs": [
        {
          "output_type": "execute_result",
          "data": {
            "text/plain": [
              "True"
            ]
          },
          "metadata": {},
          "execution_count": 3
        }
      ]
    },
    {
      "cell_type": "code",
      "source": [
        "variable == 10"
      ],
      "metadata": {
        "colab": {
          "base_uri": "https://localhost:8080/"
        },
        "id": "z5Oo2_SISTBb",
        "outputId": "67002d2e-2536-4af6-800d-f0bd8b52a670"
      },
      "execution_count": null,
      "outputs": [
        {
          "output_type": "execute_result",
          "data": {
            "text/plain": [
              "True"
            ]
          },
          "metadata": {},
          "execution_count": 43
        }
      ]
    },
    {
      "cell_type": "code",
      "source": [
        "variable > 5"
      ],
      "metadata": {
        "colab": {
          "base_uri": "https://localhost:8080/"
        },
        "id": "A92BrHvTYfat",
        "outputId": "d9ca7af6-273b-45ed-8528-38b5ddb0c32b"
      },
      "execution_count": null,
      "outputs": [
        {
          "output_type": "execute_result",
          "data": {
            "text/plain": [
              "True"
            ]
          },
          "metadata": {},
          "execution_count": 63
        }
      ]
    },
    {
      "cell_type": "code",
      "source": [
        "5 > variable"
      ],
      "metadata": {
        "colab": {
          "base_uri": "https://localhost:8080/"
        },
        "id": "t2QSwFVSYlQ6",
        "outputId": "a33cc5df-ca8c-4f24-cd84-ee3a45f41e33"
      },
      "execution_count": null,
      "outputs": [
        {
          "output_type": "execute_result",
          "data": {
            "text/plain": [
              "False"
            ]
          },
          "metadata": {},
          "execution_count": 64
        }
      ]
    },
    {
      "cell_type": "code",
      "source": [
        "variable = 4104/200\n",
        "\n",
        "print(variable)"
      ],
      "metadata": {
        "colab": {
          "base_uri": "https://localhost:8080/"
        },
        "id": "pWqrnDpJSUQb",
        "outputId": "3aab549b-8d2b-4aa5-8da8-a8a475ef1e20"
      },
      "execution_count": null,
      "outputs": [
        {
          "output_type": "stream",
          "name": "stdout",
          "text": [
            "20.52\n"
          ]
        }
      ]
    },
    {
      "cell_type": "code",
      "source": [
        "4104/200 = variable # MAL"
      ],
      "metadata": {
        "colab": {
          "base_uri": "https://localhost:8080/",
          "height": 141
        },
        "id": "jrjoiMJlShDX",
        "outputId": "fcdf145b-5e43-4a74-e7e1-9cc85abcbee4"
      },
      "execution_count": null,
      "outputs": [
        {
          "output_type": "error",
          "ename": "SyntaxError",
          "evalue": "ignored",
          "traceback": [
            "\u001b[0;36m  File \u001b[0;32m\"<ipython-input-66-47e044b65256>\"\u001b[0;36m, line \u001b[0;32m1\u001b[0m\n\u001b[0;31m    4104/200 = variable # MAL\u001b[0m\n\u001b[0m    ^\u001b[0m\n\u001b[0;31mSyntaxError\u001b[0m\u001b[0;31m:\u001b[0m cannot assign to expression here. Maybe you meant '==' instead of '='?\n"
          ]
        }
      ]
    },
    {
      "cell_type": "markdown",
      "source": [
        "## Operadores lógicos"
      ],
      "metadata": {
        "id": "AvvjmWaoSr0W"
      }
    },
    {
      "cell_type": "code",
      "source": [
        "# and, or, not\n",
        "# ==, <, >, >=, <=\n",
        "\n",
        "145 > 0"
      ],
      "metadata": {
        "colab": {
          "base_uri": "https://localhost:8080/"
        },
        "id": "PvTG5bVmSjtn",
        "outputId": "f529775a-115a-458f-ce76-9c867ef41d5c"
      },
      "execution_count": null,
      "outputs": [
        {
          "output_type": "execute_result",
          "data": {
            "text/plain": [
              "True"
            ]
          },
          "metadata": {},
          "execution_count": 67
        }
      ]
    },
    {
      "cell_type": "code",
      "source": [
        "90 == 90"
      ],
      "metadata": {
        "colab": {
          "base_uri": "https://localhost:8080/"
        },
        "id": "k0bgmYjLS3_v",
        "outputId": "cbb738c8-4bca-4a36-c0ef-1207d9ca698e"
      },
      "execution_count": null,
      "outputs": [
        {
          "output_type": "execute_result",
          "data": {
            "text/plain": [
              "True"
            ]
          },
          "metadata": {},
          "execution_count": 68
        }
      ]
    },
    {
      "cell_type": "code",
      "source": [
        "91 == 90"
      ],
      "metadata": {
        "colab": {
          "base_uri": "https://localhost:8080/"
        },
        "id": "OSjBnX4_S7GS",
        "outputId": "eaabd0d1-1c0c-48de-b54d-d9d4eb1fbf92"
      },
      "execution_count": null,
      "outputs": [
        {
          "output_type": "execute_result",
          "data": {
            "text/plain": [
              "False"
            ]
          },
          "metadata": {},
          "execution_count": 69
        }
      ]
    },
    {
      "cell_type": "code",
      "source": [
        "True and True"
      ],
      "metadata": {
        "colab": {
          "base_uri": "https://localhost:8080/"
        },
        "id": "XKn7KvHsS8yS",
        "outputId": "e68ca6cf-43b2-4904-ee81-82454adfdcc6"
      },
      "execution_count": null,
      "outputs": [
        {
          "output_type": "execute_result",
          "data": {
            "text/plain": [
              "True"
            ]
          },
          "metadata": {},
          "execution_count": 50
        }
      ]
    },
    {
      "cell_type": "code",
      "source": [
        "True and False"
      ],
      "metadata": {
        "colab": {
          "base_uri": "https://localhost:8080/"
        },
        "id": "SixPhqldS_89",
        "outputId": "09be1920-bfc0-44dd-c048-a5df6194c0e8"
      },
      "execution_count": null,
      "outputs": [
        {
          "output_type": "execute_result",
          "data": {
            "text/plain": [
              "False"
            ]
          },
          "metadata": {},
          "execution_count": 51
        }
      ]
    },
    {
      "cell_type": "code",
      "source": [
        "True or False"
      ],
      "metadata": {
        "colab": {
          "base_uri": "https://localhost:8080/"
        },
        "id": "Xel5yFRvTBTr",
        "outputId": "65fcb51e-6326-4c3a-fdbc-13eb56181ed2"
      },
      "execution_count": null,
      "outputs": [
        {
          "output_type": "execute_result",
          "data": {
            "text/plain": [
              "True"
            ]
          },
          "metadata": {},
          "execution_count": 52
        }
      ]
    },
    {
      "cell_type": "code",
      "source": [
        "False or False"
      ],
      "metadata": {
        "colab": {
          "base_uri": "https://localhost:8080/"
        },
        "id": "g4q-M6QqZMsZ",
        "outputId": "123ce406-51c5-462b-844b-eacdb173f71b"
      },
      "execution_count": null,
      "outputs": [
        {
          "output_type": "execute_result",
          "data": {
            "text/plain": [
              "False"
            ]
          },
          "metadata": {},
          "execution_count": 70
        }
      ]
    },
    {
      "cell_type": "code",
      "source": [
        "not True"
      ],
      "metadata": {
        "colab": {
          "base_uri": "https://localhost:8080/"
        },
        "id": "fkiP2IIzTCiK",
        "outputId": "73c7427f-7854-43fc-97a2-3b4390e665d9"
      },
      "execution_count": null,
      "outputs": [
        {
          "output_type": "execute_result",
          "data": {
            "text/plain": [
              "False"
            ]
          },
          "metadata": {},
          "execution_count": 71
        }
      ]
    },
    {
      "cell_type": "code",
      "source": [
        "not False"
      ],
      "metadata": {
        "colab": {
          "base_uri": "https://localhost:8080/"
        },
        "id": "ggSiiKKgTDXG",
        "outputId": "37090afc-dab4-454c-c741-2ad24c811c7b"
      },
      "execution_count": null,
      "outputs": [
        {
          "output_type": "execute_result",
          "data": {
            "text/plain": [
              "True"
            ]
          },
          "metadata": {},
          "execution_count": 72
        }
      ]
    },
    {
      "cell_type": "markdown",
      "source": [
        "## Ejemplo de uso de operadores lógicos"
      ],
      "metadata": {
        "id": "F_xvsGa-TcWc"
      }
    },
    {
      "cell_type": "code",
      "source": [
        "\"ha\" == \"ha\""
      ],
      "metadata": {
        "colab": {
          "base_uri": "https://localhost:8080/"
        },
        "id": "rEwDwP_evGq3",
        "outputId": "b7aa25ef-eb47-4906-a59e-41be4ce608c9"
      },
      "execution_count": null,
      "outputs": [
        {
          "output_type": "execute_result",
          "data": {
            "text/plain": [
              "True"
            ]
          },
          "metadata": {},
          "execution_count": 5
        }
      ]
    },
    {
      "cell_type": "code",
      "source": [
        "usuario = \"python\"\n",
        "contraseña = \"hola123\"\n",
        "\n",
        "usuario_ingresado = input(\"Ingrese el usuario: \")\n",
        "contra_ingresada = input(\"Ingrese su contraseña: \")\n",
        "\n",
        "if (usuario == usuario_ingresado) and (contraseña == contra_ingresada):\n",
        "  print(\"Sesión iniciada con éxito!\")\n",
        "else:\n",
        "  print(\"Hay algo mal...\")"
      ],
      "metadata": {
        "colab": {
          "base_uri": "https://localhost:8080/"
        },
        "id": "MJRPNgdjTdqC",
        "outputId": "3a2cee76-159e-4fa0-c4fe-5e0221665758"
      },
      "execution_count": null,
      "outputs": [
        {
          "output_type": "stream",
          "name": "stdout",
          "text": [
            "Ingrese el usuario: user\n",
            "Ingrese su contraseña: pass\n",
            "Hay algo mal...\n"
          ]
        }
      ]
    },
    {
      "cell_type": "code",
      "source": [
        "# me gustaría que me deje ingresar de nuevo...\n",
        "# cambiemos por un while!\n",
        "\n",
        "usuario = \"python\"\n",
        "contraseña = \"hola123\"\n",
        "\n",
        "usuario_ingresado = input(\"Ingrese el usuario: \")\n",
        "contra_ingresada = input(\"Ingrese su contraseña: \")\n",
        "\n",
        "while not((usuario == usuario_ingresado) and (contraseña == contra_ingresada)):\n",
        "  print(\"Hay algo mal... Ingrese nuevamente\")\n",
        "  usuario_ingresado = input(\"Ingrese el usuario: \")\n",
        "  contra_ingresada = input(\"Ingrese su contraseña: \")\n",
        "\n",
        "print(\"Sesión iniciada!\")"
      ],
      "metadata": {
        "colab": {
          "base_uri": "https://localhost:8080/"
        },
        "id": "zgRKbsbjUNJw",
        "outputId": "f7789572-b433-46fa-bd42-5fd80782185e"
      },
      "execution_count": null,
      "outputs": [
        {
          "output_type": "stream",
          "name": "stdout",
          "text": [
            "Ingrese el usuario: user\n",
            "Ingrese su contraseña: pass\n",
            "Hay algo mal... Ingrese nuevamente\n",
            "Ingrese el usuario: user\n",
            "Ingrese su contraseña: hola123\n",
            "Hay algo mal... Ingrese nuevamente\n",
            "Ingrese el usuario: python\n",
            "Ingrese su contraseña: pass\n",
            "Hay algo mal... Ingrese nuevamente\n",
            "Ingrese el usuario: python\n",
            "Ingrese su contraseña: hola123\n",
            "Sesión iniciada!\n"
          ]
        }
      ]
    },
    {
      "cell_type": "markdown",
      "source": [
        "La idea puede leerse como:\n",
        "1. Ingresar usuario y contraseña\n",
        "2. Mientras no haya coincidencia, repetir\n",
        "3. Si se terminó de repetir es porque hubo coincidencia, fin"
      ],
      "metadata": {
        "id": "cVf63N7cWS3S"
      }
    },
    {
      "cell_type": "code",
      "source": [
        "x = input(\"Ingrese num: \")\n",
        "\n",
        "while x != \"0\":\n",
        "  x = input(\"Ingrese num: \")"
      ],
      "metadata": {
        "colab": {
          "base_uri": "https://localhost:8080/"
        },
        "id": "6jZ248u4b7Hr",
        "outputId": "0f1abb07-86a4-420c-d276-8928ebd7a326"
      },
      "execution_count": null,
      "outputs": [
        {
          "name": "stdout",
          "output_type": "stream",
          "text": [
            "Ingrese num: 10\n",
            "Ingrese num: 9\n",
            "Ingrese num: 3\n",
            "Ingrese num: 0\n"
          ]
        }
      ]
    },
    {
      "cell_type": "code",
      "source": [
        "# ejemplo de break\n",
        "n = 0\n",
        "while n < 10:\n",
        "  print(n)\n",
        "  n += 1\n",
        "  if n == 3:\n",
        "    break"
      ],
      "metadata": {
        "colab": {
          "base_uri": "https://localhost:8080/"
        },
        "id": "vegDpREwcwNs",
        "outputId": "acd57076-e470-43c8-ba4f-047c27111743"
      },
      "execution_count": null,
      "outputs": [
        {
          "output_type": "stream",
          "name": "stdout",
          "text": [
            "0\n",
            "1\n",
            "2\n"
          ]
        }
      ]
    },
    {
      "cell_type": "code",
      "source": [
        "int(\"hola\")"
      ],
      "metadata": {
        "colab": {
          "base_uri": "https://localhost:8080/",
          "height": 176
        },
        "id": "MWkXYRIQxd0u",
        "outputId": "1c97cb41-89a0-477b-cb86-9553212fea83"
      },
      "execution_count": null,
      "outputs": [
        {
          "output_type": "error",
          "ename": "ValueError",
          "evalue": "ignored",
          "traceback": [
            "\u001b[0;31m---------------------------------------------------------------------------\u001b[0m",
            "\u001b[0;31mValueError\u001b[0m                                Traceback (most recent call last)",
            "\u001b[0;32m<ipython-input-25-62025142aa33>\u001b[0m in \u001b[0;36m<cell line: 1>\u001b[0;34m()\u001b[0m\n\u001b[0;32m----> 1\u001b[0;31m \u001b[0mint\u001b[0m\u001b[0;34m(\u001b[0m\u001b[0;34m\"hola\"\u001b[0m\u001b[0;34m)\u001b[0m\u001b[0;34m\u001b[0m\u001b[0;34m\u001b[0m\u001b[0m\n\u001b[0m",
            "\u001b[0;31mValueError\u001b[0m: invalid literal for int() with base 10: 'hola'"
          ]
        }
      ]
    },
    {
      "cell_type": "code",
      "source": [
        "while True:\n",
        "  print(\"hola desde el while\")\n",
        "  x = input(\"Ingrese num: \")\n",
        "  if x == \"10\":\n",
        "    break"
      ],
      "metadata": {
        "colab": {
          "base_uri": "https://localhost:8080/"
        },
        "id": "ygTkYUGkdF2o",
        "outputId": "5d1ac349-6799-422d-d2fc-ff34da24043d"
      },
      "execution_count": null,
      "outputs": [
        {
          "name": "stdout",
          "output_type": "stream",
          "text": [
            "hola desde el while\n",
            "Ingrese num: 10\n"
          ]
        }
      ]
    },
    {
      "cell_type": "markdown",
      "source": [
        "## Funciones ya existentes"
      ],
      "metadata": {
        "id": "Mt5slDDLj9qL"
      }
    },
    {
      "cell_type": "markdown",
      "source": [
        "### Función `max`"
      ],
      "metadata": {
        "id": "472TFgEjlo2i"
      }
    },
    {
      "cell_type": "code",
      "execution_count": null,
      "metadata": {
        "colab": {
          "base_uri": "https://localhost:8080/"
        },
        "id": "cjlzpLNvjt4P",
        "outputId": "9db6d373-c010-4bf6-ff5d-a52d5d1fe570"
      },
      "outputs": [
        {
          "output_type": "stream",
          "name": "stdout",
          "text": [
            "El valor máximo es 33\n"
          ]
        }
      ],
      "source": [
        "# creación de una lista de números\n",
        "numeros = [5, 1, 3, 0, -4, 33, 14]\n",
        "\n",
        "# obtención del valor máximo con la función max\n",
        "valor_maximo = max(numeros)\n",
        "\n",
        "print(\"El valor máximo es\", valor_maximo)"
      ]
    },
    {
      "cell_type": "code",
      "source": [
        "numeros[0]"
      ],
      "metadata": {
        "colab": {
          "base_uri": "https://localhost:8080/"
        },
        "id": "if30yHimbJg6",
        "outputId": "a7b5ecc2-64dd-4f4c-a066-eda5274f6ee5"
      },
      "execution_count": null,
      "outputs": [
        {
          "output_type": "execute_result",
          "data": {
            "text/plain": [
              "5"
            ]
          },
          "metadata": {},
          "execution_count": 30
        }
      ]
    },
    {
      "cell_type": "markdown",
      "source": [
        "### Función `sum`"
      ],
      "metadata": {
        "id": "2TLOazcrlxw4"
      }
    },
    {
      "cell_type": "code",
      "source": [
        "# si quiero calcular al suma de la lista de números, puedo hacer\n",
        "suma = sum(numeros)\n",
        "\n",
        "print(\"La sumatoria de la lista es\", suma)"
      ],
      "metadata": {
        "colab": {
          "base_uri": "https://localhost:8080/"
        },
        "id": "nCCUgHZilz0K",
        "outputId": "6f4c62fe-31b9-4cf3-ce26-30bf57ced6c2"
      },
      "execution_count": null,
      "outputs": [
        {
          "output_type": "stream",
          "name": "stdout",
          "text": [
            "La sumatoria de la lista es 52\n"
          ]
        }
      ]
    },
    {
      "cell_type": "code",
      "source": [
        "string = \"123\"\n",
        "print(type(string))\n",
        "\n",
        "string = int(string)\n",
        "print(type(string))"
      ],
      "metadata": {
        "colab": {
          "base_uri": "https://localhost:8080/"
        },
        "id": "ym9hW4eydrxD",
        "outputId": "af57dd9a-a389-4e58-a43a-8a59ccb89d45"
      },
      "execution_count": null,
      "outputs": [
        {
          "output_type": "stream",
          "name": "stdout",
          "text": [
            "<class 'str'>\n",
            "<class 'int'>\n"
          ]
        }
      ]
    },
    {
      "cell_type": "code",
      "source": [
        "string = 20\n",
        "type(string)"
      ],
      "metadata": {
        "colab": {
          "base_uri": "https://localhost:8080/"
        },
        "id": "VZdplK6beKOT",
        "outputId": "b9b6e6d4-a966-4984-8435-b61feea55ed8"
      },
      "execution_count": null,
      "outputs": [
        {
          "output_type": "execute_result",
          "data": {
            "text/plain": [
              "int"
            ]
          },
          "metadata": {},
          "execution_count": 95
        }
      ]
    },
    {
      "cell_type": "markdown",
      "source": [
        "### Función `min`"
      ],
      "metadata": {
        "id": "4g8Hb7k3mlo_"
      }
    },
    {
      "cell_type": "code",
      "source": [
        "# análogo a max\n",
        "\n",
        "print(\"El valor mínimo es\", min(numeros))"
      ],
      "metadata": {
        "colab": {
          "base_uri": "https://localhost:8080/"
        },
        "id": "_sJQJECqmldz",
        "outputId": "7a6e992d-8a71-4c8d-8b82-057405a38c7e"
      },
      "execution_count": null,
      "outputs": [
        {
          "output_type": "stream",
          "name": "stdout",
          "text": [
            "El valor mínimo es -4\n"
          ]
        }
      ]
    },
    {
      "cell_type": "markdown",
      "source": [
        "### Ordenamiento con `sorted`"
      ],
      "metadata": {
        "id": "Mjpj8Yh0mvWM"
      }
    },
    {
      "cell_type": "code",
      "source": [
        "numeros_ordenados = sorted(numeros)\n",
        "\n",
        "print(\"Orden original:\", numeros)\n",
        "print(\"Ordenado:\", numeros_ordenados)"
      ],
      "metadata": {
        "colab": {
          "base_uri": "https://localhost:8080/"
        },
        "id": "ZtfW8Usvmu0B",
        "outputId": "3969d87b-de85-4de5-c80c-05f95f274721"
      },
      "execution_count": null,
      "outputs": [
        {
          "output_type": "stream",
          "name": "stdout",
          "text": [
            "Orden original: [5, 1, 3, 0, -4, 33, 14]\n",
            "Ordenado: [-4, 0, 1, 3, 5, 14, 33]\n"
          ]
        }
      ]
    },
    {
      "cell_type": "markdown",
      "source": [
        "Se puede hacer al revés también"
      ],
      "metadata": {
        "id": "UQ1xwNd3m-Ym"
      }
    },
    {
      "cell_type": "code",
      "source": [
        "numeros_ordenados_reves = sorted(numeros, reverse=True)\n",
        "\n",
        "print(\"Orden original:\", numeros)\n",
        "print(\"Ordenado:\", numeros_ordenados_reves)"
      ],
      "metadata": {
        "colab": {
          "base_uri": "https://localhost:8080/"
        },
        "id": "pkHSXTuAm9nI",
        "outputId": "2d57a828-80e1-4938-a7e7-7cf27047cb42"
      },
      "execution_count": null,
      "outputs": [
        {
          "output_type": "stream",
          "name": "stdout",
          "text": [
            "Orden original: [5, 1, 3, 0, -4, 33, 14]\n",
            "Ordenado: [33, 14, 5, 3, 1, 0, -4]\n"
          ]
        }
      ]
    },
    {
      "cell_type": "markdown",
      "source": [
        "### Ver el largo de una lista con `len`"
      ],
      "metadata": {
        "id": "IVQKbyGunfFE"
      }
    },
    {
      "cell_type": "code",
      "source": [
        "largo = len(numeros)\n",
        "\n",
        "print(\"Hay\", largo, \"elementos en la lista\")"
      ],
      "metadata": {
        "colab": {
          "base_uri": "https://localhost:8080/"
        },
        "id": "gYF6J2D9nh8m",
        "outputId": "00892dbe-5c30-4009-87ea-e5d355220724"
      },
      "execution_count": null,
      "outputs": [
        {
          "output_type": "stream",
          "name": "stdout",
          "text": [
            "Hay 7 elementos en la lista\n"
          ]
        }
      ]
    },
    {
      "cell_type": "markdown",
      "source": [
        "## Función para calcular promedio"
      ],
      "metadata": {
        "id": "NznwANAllsmX"
      }
    },
    {
      "cell_type": "markdown",
      "source": [
        "Para calcular el promedio en una lista, Python no tiene una función nativa.\n",
        "Me quedan dos opciones:\n",
        "- Importo la función desde otro lado (ejemplo de `statistics`)\n",
        "- La defino yo"
      ],
      "metadata": {
        "id": "jX9lohSsnLOP"
      }
    },
    {
      "cell_type": "markdown",
      "source": [
        "### Definición propia"
      ],
      "metadata": {
        "id": "grpVEks8n9th"
      }
    },
    {
      "cell_type": "code",
      "source": [
        "# definición propia\n",
        "\n",
        "def promedio(lista_numeros):\n",
        "  suma = sum(lista_numeros)\n",
        "  largo = len(lista_numeros)\n",
        "\n",
        "  return suma/largo"
      ],
      "metadata": {
        "id": "3wEehEJSlZig"
      },
      "execution_count": null,
      "outputs": []
    },
    {
      "cell_type": "code",
      "source": [
        "# uso de mi propia función\n",
        "\n",
        "promedio(numeros)"
      ],
      "metadata": {
        "colab": {
          "base_uri": "https://localhost:8080/"
        },
        "id": "ekE0HWmqnxQr",
        "outputId": "23fb1f16-b814-4b77-de53-7bec6b0ac48e"
      },
      "execution_count": null,
      "outputs": [
        {
          "output_type": "execute_result",
          "data": {
            "text/plain": [
              "7.428571428571429"
            ]
          },
          "metadata": {},
          "execution_count": 35
        }
      ]
    },
    {
      "cell_type": "markdown",
      "source": [
        "### Importación desde un módulo"
      ],
      "metadata": {
        "id": "uR-07vgUn4JT"
      }
    },
    {
      "cell_type": "code",
      "source": [
        "from statistics import mean\n",
        "\n",
        "mean(numeros)"
      ],
      "metadata": {
        "colab": {
          "base_uri": "https://localhost:8080/"
        },
        "id": "2637_Aw8n2SV",
        "outputId": "0d898f98-63f3-4488-80c7-fbeba3f524dd"
      },
      "execution_count": null,
      "outputs": [
        {
          "output_type": "execute_result",
          "data": {
            "text/plain": [
              "7.428571428571429"
            ]
          },
          "metadata": {},
          "execution_count": 36
        }
      ]
    },
    {
      "cell_type": "code",
      "source": [
        "import statistics"
      ],
      "metadata": {
        "id": "clZn2oHdf7DK"
      },
      "execution_count": null,
      "outputs": []
    },
    {
      "cell_type": "code",
      "source": [
        "statistics.mean(numeros)"
      ],
      "metadata": {
        "colab": {
          "base_uri": "https://localhost:8080/"
        },
        "id": "sHogDZquzYeO",
        "outputId": "817005e2-3587-4393-c812-fa15822caf87"
      },
      "execution_count": null,
      "outputs": [
        {
          "output_type": "execute_result",
          "data": {
            "text/plain": [
              "7.428571428571429"
            ]
          },
          "metadata": {},
          "execution_count": 38
        }
      ]
    },
    {
      "cell_type": "code",
      "source": [
        "!ls .."
      ],
      "metadata": {
        "colab": {
          "base_uri": "https://localhost:8080/"
        },
        "id": "enobP7ZegVQf",
        "outputId": "7f25411e-7393-4252-ad7a-cf7ee4c9260f"
      },
      "execution_count": null,
      "outputs": [
        {
          "output_type": "stream",
          "name": "stdout",
          "text": [
            "bin\t\t\t    etc     media\t\t      root  tools\n",
            "boot\t\t\t    home    mnt\t\t\t      run   usr\n",
            "content\t\t\t    lib     NGC-DL-CONTAINER-LICENSE  sbin  var\n",
            "cuda-keyring_1.0-1_all.deb  lib32   opt\t\t\t      srv\n",
            "datalab\t\t\t    lib64   proc\t\t      sys\n",
            "dev\t\t\t    libx32  python-apt\t\t      tmp\n"
          ]
        }
      ]
    },
    {
      "cell_type": "code",
      "source": [
        "!pip install statistics"
      ],
      "metadata": {
        "colab": {
          "base_uri": "https://localhost:8080/",
          "height": 325
        },
        "id": "q3u04_2Jgsak",
        "outputId": "cd8b19bc-5c5f-4e00-be18-d02335793718"
      },
      "execution_count": null,
      "outputs": [
        {
          "output_type": "stream",
          "name": "stdout",
          "text": [
            "Collecting statistics\n",
            "  Downloading statistics-1.0.3.5.tar.gz (8.3 kB)\n",
            "  Preparing metadata (setup.py) ... \u001b[?25l\u001b[?25hdone\n",
            "Requirement already satisfied: docutils>=0.3 in /usr/local/lib/python3.10/dist-packages (from statistics) (0.18.1)\n",
            "Building wheels for collected packages: statistics\n",
            "  Building wheel for statistics (setup.py) ... \u001b[?25l\u001b[?25hdone\n",
            "  Created wheel for statistics: filename=statistics-1.0.3.5-py3-none-any.whl size=7437 sha256=c5115f6176d723c4abf5befb6636f22c26bbb8b9ed13a2843e1a521e7f9fb766\n",
            "  Stored in directory: /root/.cache/pip/wheels/59/bd/aa/41ad56fbb723d36e457b5be74feb992cdac2855a6999ba34a1\n",
            "Successfully built statistics\n",
            "Installing collected packages: statistics\n",
            "Successfully installed statistics-1.0.3.5\n"
          ]
        },
        {
          "output_type": "display_data",
          "data": {
            "application/vnd.colab-display-data+json": {
              "pip_warning": {
                "packages": [
                  "statistics"
                ]
              }
            }
          },
          "metadata": {}
        }
      ]
    },
    {
      "cell_type": "markdown",
      "source": [
        "## Función para calcular la raíz cuadrada"
      ],
      "metadata": {
        "id": "6KN2j1Z0JLCR"
      }
    },
    {
      "cell_type": "code",
      "source": [
        "# defino una yo\n",
        "\n",
        "def raiz_cuadrada(num):\n",
        "  return num**0.5"
      ],
      "metadata": {
        "id": "5uCJHvujqkiy"
      },
      "execution_count": null,
      "outputs": []
    },
    {
      "cell_type": "code",
      "source": [
        "raiz_cuadrada(25)"
      ],
      "metadata": {
        "colab": {
          "base_uri": "https://localhost:8080/"
        },
        "id": "QWzp-J5nJYCp",
        "outputId": "88f02859-5649-4129-b187-11fe85700557"
      },
      "execution_count": null,
      "outputs": [
        {
          "output_type": "execute_result",
          "data": {
            "text/plain": [
              "5.0"
            ]
          },
          "metadata": {},
          "execution_count": 43
        }
      ]
    },
    {
      "cell_type": "markdown",
      "source": [
        "La importo desde math"
      ],
      "metadata": {
        "id": "TFaxzP3CJZ5B"
      }
    },
    {
      "cell_type": "code",
      "source": [
        "from math import sqrt\n",
        "\n",
        "sqrt(25)"
      ],
      "metadata": {
        "colab": {
          "base_uri": "https://localhost:8080/"
        },
        "id": "xTND4Yr7JZbl",
        "outputId": "8d410259-733f-42f8-c690-2bc67def5d55"
      },
      "execution_count": null,
      "outputs": [
        {
          "output_type": "execute_result",
          "data": {
            "text/plain": [
              "5.0"
            ]
          },
          "metadata": {},
          "execution_count": 44
        }
      ]
    },
    {
      "cell_type": "code",
      "source": [
        "import math\n",
        "\n",
        "math.sqrt(25)"
      ],
      "metadata": {
        "colab": {
          "base_uri": "https://localhost:8080/"
        },
        "id": "r53qU08VhZmE",
        "outputId": "32a84302-3bc7-4d39-8fbd-b42d52a3cd98"
      },
      "execution_count": null,
      "outputs": [
        {
          "output_type": "execute_result",
          "data": {
            "text/plain": [
              "5.0"
            ]
          },
          "metadata": {},
          "execution_count": 45
        }
      ]
    },
    {
      "cell_type": "markdown",
      "source": [
        "## Función para sumar una cantidad X a cada elemento de una lista"
      ],
      "metadata": {
        "id": "vstacYpwJnmG"
      }
    },
    {
      "cell_type": "markdown",
      "source": [
        "Quiero hacer una función que sume una cantidad X a cada elemento de una lista.\n",
        "\n",
        "Ejemplo:\n",
        "\n",
        "```python\n",
        "lista = [1, 2, 3, 4]\n",
        "\n",
        "sumar(lista, 10) devuelve [11, 12, 13, 14]\n",
        "```"
      ],
      "metadata": {
        "id": "Jj3fsvEyJssX"
      }
    },
    {
      "cell_type": "code",
      "source": [
        "def sumar(lista, x):\n",
        "  lista_nueva = []\n",
        "\n",
        "  for elemento in lista:\n",
        "    suma = elemento + x\n",
        "    lista_nueva.append(suma)\n",
        "\n",
        "  return lista_nueva"
      ],
      "metadata": {
        "id": "ys_dHOl_JkkY"
      },
      "execution_count": null,
      "outputs": []
    },
    {
      "cell_type": "code",
      "source": [
        "print(numeros)\n",
        "\n",
        "numeros_sumados = sumar(numeros, 20)\n",
        "\n",
        "print(numeros_sumados)"
      ],
      "metadata": {
        "colab": {
          "base_uri": "https://localhost:8080/"
        },
        "id": "GkGBPEphKU13",
        "outputId": "1a534efc-4e9e-4601-a24c-976a7e56577f"
      },
      "execution_count": null,
      "outputs": [
        {
          "output_type": "stream",
          "name": "stdout",
          "text": [
            "[5, 1, 3, 0, -4, 33, 14]\n",
            "[25, 21, 23, 20, 16, 53, 34]\n"
          ]
        }
      ]
    },
    {
      "cell_type": "markdown",
      "source": [
        "El pseudocódigo de la función sería:\n",
        "1. Creo una lista vacía\n",
        "2. Recorro la lista de entrada\n",
        "3. Agrego el resultado de sumar X a cada elemento a medida que recorro a la lista nueva\n",
        "4. Devuelvo la lista nueva"
      ],
      "metadata": {
        "id": "tvCvxXIWK2w9"
      }
    },
    {
      "cell_type": "code",
      "source": [
        "# podemos reescribir la función de otra forma\n",
        "\n",
        "def sumar(lista, x):\n",
        "  return [(n + x) for n in lista]\n",
        "\n",
        "# a esta forma de trabajar las listas se le llama list-comprehension"
      ],
      "metadata": {
        "id": "S-xyQIZ4KgHR"
      },
      "execution_count": null,
      "outputs": []
    },
    {
      "cell_type": "code",
      "source": [
        "sumar(numeros, 20)"
      ],
      "metadata": {
        "colab": {
          "base_uri": "https://localhost:8080/"
        },
        "id": "fu2o2QZVLZcO",
        "outputId": "aa647e3c-5dd8-455d-9374-11131d9e25e3"
      },
      "execution_count": null,
      "outputs": [
        {
          "output_type": "execute_result",
          "data": {
            "text/plain": [
              "[25, 21, 23, 20, 16, 53, 34]"
            ]
          },
          "metadata": {},
          "execution_count": 49
        }
      ]
    },
    {
      "cell_type": "code",
      "source": [
        "numeros"
      ],
      "metadata": {
        "colab": {
          "base_uri": "https://localhost:8080/"
        },
        "id": "DolOpX0UjpBt",
        "outputId": "b6f8870c-f66d-4398-bf41-dd6aa5c98cf5"
      },
      "execution_count": null,
      "outputs": [
        {
          "output_type": "execute_result",
          "data": {
            "text/plain": [
              "[5, 1, 3, 0, -4, 33, 14]"
            ]
          },
          "metadata": {},
          "execution_count": 50
        }
      ]
    },
    {
      "cell_type": "code",
      "source": [
        "[n*2 for n in numeros]"
      ],
      "metadata": {
        "colab": {
          "base_uri": "https://localhost:8080/"
        },
        "id": "TN84wHWFjrPM",
        "outputId": "90b25474-873a-47ce-bb46-71e0ae7a749c"
      },
      "execution_count": null,
      "outputs": [
        {
          "output_type": "execute_result",
          "data": {
            "text/plain": [
              "[10, 2, 6, 0, -8, 66, 28]"
            ]
          },
          "metadata": {},
          "execution_count": 53
        }
      ]
    },
    {
      "cell_type": "code",
      "source": [
        "from math import sqrt\n",
        "\n",
        "import math"
      ],
      "metadata": {
        "id": "ZdtgQNh6kIDe"
      },
      "execution_count": null,
      "outputs": []
    },
    {
      "cell_type": "markdown",
      "source": [
        "## Tuplas"
      ],
      "metadata": {
        "id": "Ql9iL71-LmxW"
      }
    },
    {
      "cell_type": "code",
      "source": [
        "# \"hola\"\n",
        "# [1, 2, 3]\n",
        "# (1, 2, 3)\n",
        "tup1 = (3, 5, 8, 9)\n",
        "tup1"
      ],
      "metadata": {
        "colab": {
          "base_uri": "https://localhost:8080/"
        },
        "id": "foHgZwOELpvR",
        "outputId": "a5f93108-4ed3-4f12-af31-f839109fb1e2"
      },
      "execution_count": null,
      "outputs": [
        {
          "output_type": "execute_result",
          "data": {
            "text/plain": [
              "(3, 5, 8, 9)"
            ]
          },
          "metadata": {},
          "execution_count": 54
        }
      ]
    },
    {
      "cell_type": "code",
      "source": [
        "print(\"El primer elemento de la tupla es\", tup1[0])"
      ],
      "metadata": {
        "colab": {
          "base_uri": "https://localhost:8080/"
        },
        "id": "cZAwhaVZLtj_",
        "outputId": "d316f4bd-ceeb-4c16-e9b5-e60d326a0957"
      },
      "execution_count": null,
      "outputs": [
        {
          "output_type": "stream",
          "name": "stdout",
          "text": [
            "El primer elemento de la tupla es 3\n"
          ]
        }
      ]
    },
    {
      "cell_type": "code",
      "source": [
        "# pero no pueden cambiar estos elementos una vez definidos (inmutables)\n",
        "tup1[0] = 40"
      ],
      "metadata": {
        "colab": {
          "base_uri": "https://localhost:8080/",
          "height": 193
        },
        "id": "R7ghfO1dL2Lj",
        "outputId": "8baca3cd-e7c3-476c-a829-e6d1a08be751"
      },
      "execution_count": null,
      "outputs": [
        {
          "output_type": "error",
          "ename": "TypeError",
          "evalue": "ignored",
          "traceback": [
            "\u001b[0;31m---------------------------------------------------------------------------\u001b[0m",
            "\u001b[0;31mTypeError\u001b[0m                                 Traceback (most recent call last)",
            "\u001b[0;32m<ipython-input-56-ad13d8033081>\u001b[0m in \u001b[0;36m<cell line: 2>\u001b[0;34m()\u001b[0m\n\u001b[1;32m      1\u001b[0m \u001b[0;31m# pero no pueden cambiar estos elementos una vez definidos (inmutables)\u001b[0m\u001b[0;34m\u001b[0m\u001b[0;34m\u001b[0m\u001b[0m\n\u001b[0;32m----> 2\u001b[0;31m \u001b[0mtup1\u001b[0m\u001b[0;34m[\u001b[0m\u001b[0;36m0\u001b[0m\u001b[0;34m]\u001b[0m \u001b[0;34m=\u001b[0m \u001b[0;36m40\u001b[0m\u001b[0;34m\u001b[0m\u001b[0;34m\u001b[0m\u001b[0m\n\u001b[0m",
            "\u001b[0;31mTypeError\u001b[0m: 'tuple' object does not support item assignment"
          ]
        }
      ]
    },
    {
      "cell_type": "code",
      "source": [
        "lista_x = [4, 2, 0]\n",
        "\n",
        "lista_x.append(6)\n",
        "\n",
        "lista_x"
      ],
      "metadata": {
        "colab": {
          "base_uri": "https://localhost:8080/"
        },
        "id": "Bux7Nov72HoE",
        "outputId": "a1ffa10f-b91f-4877-8124-627ad3df8b9a"
      },
      "execution_count": null,
      "outputs": [
        {
          "output_type": "execute_result",
          "data": {
            "text/plain": [
              "[4, 2, 0, 6]"
            ]
          },
          "metadata": {},
          "execution_count": 58
        }
      ]
    },
    {
      "cell_type": "code",
      "source": [
        "tup1.index(8)"
      ],
      "metadata": {
        "colab": {
          "base_uri": "https://localhost:8080/"
        },
        "id": "TCkyVSrT2WIw",
        "outputId": "f6f7e5dc-f71e-411f-d1d5-49d86931ad37"
      },
      "execution_count": null,
      "outputs": [
        {
          "output_type": "execute_result",
          "data": {
            "text/plain": [
              "2"
            ]
          },
          "metadata": {},
          "execution_count": 59
        }
      ]
    },
    {
      "cell_type": "code",
      "source": [
        "# así como puedo convertir un str a un entero (cuando es posible), puedo convertir\n",
        "# una lista en una tupla\n",
        "\n",
        "tuple(numeros)"
      ],
      "metadata": {
        "colab": {
          "base_uri": "https://localhost:8080/"
        },
        "id": "Wile91IRL94Z",
        "outputId": "660cbfab-9efd-4631-ea90-a15f9d76d628"
      },
      "execution_count": null,
      "outputs": [
        {
          "output_type": "execute_result",
          "data": {
            "text/plain": [
              "(5, 1, 3, 0, -4, 33, 14)"
            ]
          },
          "metadata": {},
          "execution_count": 63
        }
      ]
    },
    {
      "cell_type": "code",
      "source": [
        "def sumar_restar(num, x):\n",
        "  return (num - x, num + x)\n",
        "\n",
        "\n",
        "r, s = sumar_restar(10, 3)\n",
        "\n",
        "r, s"
      ],
      "metadata": {
        "colab": {
          "base_uri": "https://localhost:8080/"
        },
        "id": "bWBvJb1Nlqrb",
        "outputId": "13b2d92a-1611-430f-cd2e-d5a4ab3abed7"
      },
      "execution_count": null,
      "outputs": [
        {
          "output_type": "execute_result",
          "data": {
            "text/plain": [
              "(7, 13)"
            ]
          },
          "metadata": {},
          "execution_count": 60
        }
      ]
    },
    {
      "cell_type": "code",
      "source": [
        "s"
      ],
      "metadata": {
        "colab": {
          "base_uri": "https://localhost:8080/"
        },
        "id": "v6l4MR7fl9Yr",
        "outputId": "710ea920-9026-48cb-aa41-c60322852e96"
      },
      "execution_count": null,
      "outputs": [
        {
          "output_type": "execute_result",
          "data": {
            "text/plain": [
              "13"
            ]
          },
          "metadata": {},
          "execution_count": 61
        }
      ]
    },
    {
      "cell_type": "code",
      "source": [
        "r"
      ],
      "metadata": {
        "colab": {
          "base_uri": "https://localhost:8080/"
        },
        "id": "t7WGbLnl2ziY",
        "outputId": "c0417776-f3fb-4136-bc82-14b55fbc730c"
      },
      "execution_count": null,
      "outputs": [
        {
          "output_type": "execute_result",
          "data": {
            "text/plain": [
              "7"
            ]
          },
          "metadata": {},
          "execution_count": 62
        }
      ]
    },
    {
      "cell_type": "markdown",
      "source": [
        "## Diccionarios"
      ],
      "metadata": {
        "id": "Cqmr498mMVq7"
      }
    },
    {
      "cell_type": "code",
      "source": [
        "# ejemplo de lista\n",
        "print(lista_x)\n",
        "lista_x[2]"
      ],
      "metadata": {
        "colab": {
          "base_uri": "https://localhost:8080/"
        },
        "id": "WtkVEZWI29Xm",
        "outputId": "0160514e-b246-4c10-e01a-ea260fd8acb2"
      },
      "execution_count": null,
      "outputs": [
        {
          "output_type": "stream",
          "name": "stdout",
          "text": [
            "[4, 2, 0, 6]\n"
          ]
        },
        {
          "output_type": "execute_result",
          "data": {
            "text/plain": [
              "0"
            ]
          },
          "metadata": {},
          "execution_count": 66
        }
      ]
    },
    {
      "cell_type": "code",
      "source": [
        "dicc = {\"nombre\": \"Matías\", \"apellido\": \"Sosa\", \"edad\": 25, 0: \"valor de cero\"}\n",
        "\n",
        "dicc"
      ],
      "metadata": {
        "colab": {
          "base_uri": "https://localhost:8080/"
        },
        "id": "ELMtSp_qMYA_",
        "outputId": "c6a184e6-5efc-428d-ca8e-63654b46c61c"
      },
      "execution_count": null,
      "outputs": [
        {
          "output_type": "execute_result",
          "data": {
            "text/plain": [
              "{'nombre': 'Matías', 'apellido': 'Sosa', 'edad': 25, 0: 'valor de cero'}"
            ]
          },
          "metadata": {},
          "execution_count": 69
        }
      ]
    },
    {
      "cell_type": "code",
      "source": [
        "dicc[0] # no funciona por posición. sus llaves son únicamente las llaves definidas"
      ],
      "metadata": {
        "colab": {
          "base_uri": "https://localhost:8080/",
          "height": 35
        },
        "id": "gGCqwAjWMvWP",
        "outputId": "7da80e1d-da8e-474c-9e01-ea17cd6718c7"
      },
      "execution_count": null,
      "outputs": [
        {
          "output_type": "execute_result",
          "data": {
            "text/plain": [
              "'valor de cero'"
            ],
            "application/vnd.google.colaboratory.intrinsic+json": {
              "type": "string"
            }
          },
          "metadata": {},
          "execution_count": 70
        }
      ]
    },
    {
      "cell_type": "code",
      "source": [
        "dicc[\"nombre\"]"
      ],
      "metadata": {
        "colab": {
          "base_uri": "https://localhost:8080/",
          "height": 35
        },
        "id": "YBpAszkZMzob",
        "outputId": "f62cd394-e5d7-4a76-db32-07a0ad88d151"
      },
      "execution_count": null,
      "outputs": [
        {
          "output_type": "execute_result",
          "data": {
            "text/plain": [
              "'Matías'"
            ],
            "application/vnd.google.colaboratory.intrinsic+json": {
              "type": "string"
            }
          },
          "metadata": {},
          "execution_count": 71
        }
      ]
    },
    {
      "cell_type": "code",
      "source": [
        "dicc.get(\"nombre\")"
      ],
      "metadata": {
        "colab": {
          "base_uri": "https://localhost:8080/",
          "height": 35
        },
        "id": "knVaoPJaM2Gd",
        "outputId": "01d89f00-3343-4bac-f3db-4662ff3d2dda"
      },
      "execution_count": null,
      "outputs": [
        {
          "output_type": "execute_result",
          "data": {
            "text/plain": [
              "'Matías'"
            ],
            "application/vnd.google.colaboratory.intrinsic+json": {
              "type": "string"
            }
          },
          "metadata": {},
          "execution_count": 72
        }
      ]
    },
    {
      "cell_type": "code",
      "source": [
        "dicc.get(\"trabajo\", \"No definido\")"
      ],
      "metadata": {
        "colab": {
          "base_uri": "https://localhost:8080/",
          "height": 35
        },
        "id": "G_XcftlAM3yP",
        "outputId": "00191774-a58c-465f-85d4-77d3b99cb9d1"
      },
      "execution_count": null,
      "outputs": [
        {
          "output_type": "execute_result",
          "data": {
            "text/plain": [
              "'No definido'"
            ],
            "application/vnd.google.colaboratory.intrinsic+json": {
              "type": "string"
            }
          },
          "metadata": {},
          "execution_count": 76
        }
      ]
    },
    {
      "cell_type": "code",
      "source": [
        "# si no usara el get me da error\n",
        "dicc[\"trabajo\"]"
      ],
      "metadata": {
        "colab": {
          "base_uri": "https://localhost:8080/",
          "height": 193
        },
        "id": "qXXDKKoJM6yz",
        "outputId": "123d5f4b-ef72-458e-9157-16761cf3501d"
      },
      "execution_count": null,
      "outputs": [
        {
          "output_type": "error",
          "ename": "KeyError",
          "evalue": "ignored",
          "traceback": [
            "\u001b[0;31m---------------------------------------------------------------------------\u001b[0m",
            "\u001b[0;31mKeyError\u001b[0m                                  Traceback (most recent call last)",
            "\u001b[0;32m<ipython-input-74-e282de0e5cd1>\u001b[0m in \u001b[0;36m<cell line: 2>\u001b[0;34m()\u001b[0m\n\u001b[1;32m      1\u001b[0m \u001b[0;31m# si no usara el get me da error\u001b[0m\u001b[0;34m\u001b[0m\u001b[0;34m\u001b[0m\u001b[0m\n\u001b[0;32m----> 2\u001b[0;31m \u001b[0mdicc\u001b[0m\u001b[0;34m[\u001b[0m\u001b[0;34m\"trabajo\"\u001b[0m\u001b[0;34m]\u001b[0m\u001b[0;34m\u001b[0m\u001b[0;34m\u001b[0m\u001b[0m\n\u001b[0m",
            "\u001b[0;31mKeyError\u001b[0m: 'trabajo'"
          ]
        }
      ]
    },
    {
      "cell_type": "code",
      "source": [
        "dicc[\"trabajo\"] = \"programador\"\n",
        "\n",
        "dicc[\"trabajo\"]"
      ],
      "metadata": {
        "colab": {
          "base_uri": "https://localhost:8080/",
          "height": 35
        },
        "id": "WRYU9q5xmR3m",
        "outputId": "0c1b90e8-653d-47e2-83a2-582c5d0a082b"
      },
      "execution_count": null,
      "outputs": [
        {
          "output_type": "execute_result",
          "data": {
            "text/plain": [
              "'programador'"
            ],
            "application/vnd.google.colaboratory.intrinsic+json": {
              "type": "string"
            }
          },
          "metadata": {},
          "execution_count": 77
        }
      ]
    },
    {
      "cell_type": "code",
      "source": [
        "v = 2\n",
        "tup2 = (45, v)\n",
        "\n",
        "tup2"
      ],
      "metadata": {
        "colab": {
          "base_uri": "https://localhost:8080/"
        },
        "id": "040f_JLq4fJ-",
        "outputId": "d4da6b41-1663-410e-ca4b-3095c5f9d959"
      },
      "execution_count": null,
      "outputs": [
        {
          "output_type": "execute_result",
          "data": {
            "text/plain": [
              "(45, 2)"
            ]
          },
          "metadata": {},
          "execution_count": 78
        }
      ]
    },
    {
      "cell_type": "code",
      "source": [
        "v = 3\n",
        "\n",
        "tup2"
      ],
      "metadata": {
        "colab": {
          "base_uri": "https://localhost:8080/"
        },
        "id": "UaQhT0g04lRn",
        "outputId": "35826d9e-994f-4ee2-c457-f9db95128d21"
      },
      "execution_count": null,
      "outputs": [
        {
          "output_type": "execute_result",
          "data": {
            "text/plain": [
              "(45, 2)"
            ]
          },
          "metadata": {},
          "execution_count": 79
        }
      ]
    },
    {
      "cell_type": "code",
      "source": [
        "list2 = list(tup2)\n",
        "\n",
        "list2[1] = 4\n",
        "\n",
        "tup2 = tuple(list2)\n",
        "tup2"
      ],
      "metadata": {
        "colab": {
          "base_uri": "https://localhost:8080/"
        },
        "id": "DHSt5Nab4tp8",
        "outputId": "3ea1d569-6ad4-46f2-cb60-3901a5aa9826"
      },
      "execution_count": null,
      "outputs": [
        {
          "output_type": "execute_result",
          "data": {
            "text/plain": [
              "(45, 4)"
            ]
          },
          "metadata": {},
          "execution_count": 84
        }
      ]
    },
    {
      "cell_type": "code",
      "source": [
        "tupla_nueva = (10, \"Andres\", \"Sonia\")\n",
        "\n",
        "tupla_nueva"
      ],
      "metadata": {
        "colab": {
          "base_uri": "https://localhost:8080/"
        },
        "id": "mFY5LBfd5jzk",
        "outputId": "40df436a-c42a-4663-d09b-807a6186343d"
      },
      "execution_count": null,
      "outputs": [
        {
          "output_type": "execute_result",
          "data": {
            "text/plain": [
              "(10, 'Andres', 'Sonia')"
            ]
          },
          "metadata": {},
          "execution_count": 92
        }
      ]
    },
    {
      "cell_type": "code",
      "source": [
        "tupla_nueva[1]"
      ],
      "metadata": {
        "colab": {
          "base_uri": "https://localhost:8080/",
          "height": 35
        },
        "id": "OjBdpJk45tXu",
        "outputId": "6faa2706-2fb8-4364-86c7-ea7105fc9cf2"
      },
      "execution_count": null,
      "outputs": [
        {
          "output_type": "execute_result",
          "data": {
            "text/plain": [
              "'Andres'"
            ],
            "application/vnd.google.colaboratory.intrinsic+json": {
              "type": "string"
            }
          },
          "metadata": {},
          "execution_count": 93
        }
      ]
    },
    {
      "cell_type": "code",
      "source": [
        "a, b, c = tupla_nueva\n",
        "\n",
        "a"
      ],
      "metadata": {
        "colab": {
          "base_uri": "https://localhost:8080/"
        },
        "id": "AfTwH9u350ih",
        "outputId": "79dacbcc-3510-4891-e229-028eea7294e0"
      },
      "execution_count": null,
      "outputs": [
        {
          "output_type": "execute_result",
          "data": {
            "text/plain": [
              "10"
            ]
          },
          "metadata": {},
          "execution_count": 94
        }
      ]
    },
    {
      "cell_type": "code",
      "source": [
        "# provincias = (\"Buenos Aires\", \"Santa Fe\", \"Córdoba\"...)"
      ],
      "metadata": {
        "id": "31dMXzBj5-F5"
      },
      "execution_count": null,
      "outputs": []
    },
    {
      "cell_type": "code",
      "source": [
        "import numpy"
      ],
      "metadata": {
        "id": "WaffEyZc6ZIu"
      },
      "execution_count": null,
      "outputs": []
    }
  ]
}